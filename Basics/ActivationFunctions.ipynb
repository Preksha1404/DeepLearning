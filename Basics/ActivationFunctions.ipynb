{
 "cells": [
  {
   "cell_type": "markdown",
   "id": "4f5271a1-0997-42be-91fc-2f8128bcbd8e",
   "metadata": {},
   "source": [
    "# Activation Functions --> Convert linear equations into non-linear equations for clssifying output value"
   ]
  },
  {
   "cell_type": "markdown",
   "id": "fda280b7-345c-4987-96dd-33a0a7cb0079",
   "metadata": {},
   "source": [
    "## Sigmoid --> outputs value between 0 to 1"
   ]
  },
  {
   "cell_type": "code",
   "execution_count": 1,
   "id": "8a8cd212-d8fb-402d-b232-5cf4edc17119",
   "metadata": {},
   "outputs": [],
   "source": [
    "import math\n",
    "\n",
    "def sigmoid(x):\n",
    "  return 1 / (1 + math.exp(-x))"
   ]
  },
  {
   "cell_type": "code",
   "execution_count": 2,
   "id": "f5bbf9fa-4143-4baa-8579-04622b226efc",
   "metadata": {},
   "outputs": [
    {
     "data": {
      "text/plain": [
       "1.0"
      ]
     },
     "execution_count": 2,
     "metadata": {},
     "output_type": "execute_result"
    }
   ],
   "source": [
    "sigmoid(100)"
   ]
  },
  {
   "cell_type": "code",
   "execution_count": 3,
   "id": "1ffc72cf-d36a-4d49-9484-b0d877c30e7a",
   "metadata": {},
   "outputs": [
    {
     "data": {
      "text/plain": [
       "5.602796406145941e-09"
      ]
     },
     "execution_count": 3,
     "metadata": {},
     "output_type": "execute_result"
    }
   ],
   "source": [
    "sigmoid(-19)"
   ]
  },
  {
   "cell_type": "markdown",
   "id": "32d72e63-305d-4e49-9d82-a3a41f4fe78e",
   "metadata": {},
   "source": [
    "## tanh --> outputs value between -1 to 1"
   ]
  },
  {
   "cell_type": "code",
   "execution_count": 4,
   "id": "c70b382a-9967-45ea-9382-ba2de2df3b69",
   "metadata": {},
   "outputs": [],
   "source": [
    "def tanh(x):\n",
    "  return (math.exp(x) - math.exp(-x)) / (math.exp(x) + math.exp(-x))"
   ]
  },
  {
   "cell_type": "code",
   "execution_count": 5,
   "id": "6b78a3dd-288b-4e8a-90c1-29fbdf5807ac",
   "metadata": {},
   "outputs": [
    {
     "data": {
      "text/plain": [
       "0.9999999958776926"
      ]
     },
     "execution_count": 5,
     "metadata": {},
     "output_type": "execute_result"
    }
   ],
   "source": [
    "tanh(10)"
   ]
  },
  {
   "cell_type": "code",
   "execution_count": 6,
   "id": "a1c3d0c8-b6f6-485c-84a9-995bdc485967",
   "metadata": {},
   "outputs": [
    {
     "data": {
      "text/plain": [
       "-0.999999774929676"
      ]
     },
     "execution_count": 6,
     "metadata": {},
     "output_type": "execute_result"
    }
   ],
   "source": [
    "tanh(-8)"
   ]
  },
  {
   "cell_type": "markdown",
   "id": "68f844af-ac25-47bf-8881-35d108ee0bc3",
   "metadata": {},
   "source": [
    "### Vanishing gradients problem in tanh and sigmoid activation functions (derivative is nearly close to 0 so learning speed is slower)"
   ]
  },
  {
   "cell_type": "markdown",
   "id": "0540214c-ce00-4743-b732-b254678f3a63",
   "metadata": {},
   "source": [
    "## ReLU --> outputs value between 0 to x (value itself) and lightweight activation function"
   ]
  },
  {
   "cell_type": "code",
   "execution_count": 8,
   "id": "83c2f1b4-7831-48d7-8522-e07dc5f47459",
   "metadata": {},
   "outputs": [],
   "source": [
    "def relu(x):\n",
    "    return max(0,x)"
   ]
  },
  {
   "cell_type": "code",
   "execution_count": 9,
   "id": "63ebe0bb-0735-4a4e-af1c-e01371554120",
   "metadata": {},
   "outputs": [
    {
     "data": {
      "text/plain": [
       "10"
      ]
     },
     "execution_count": 9,
     "metadata": {},
     "output_type": "execute_result"
    }
   ],
   "source": [
    "relu(10)"
   ]
  },
  {
   "cell_type": "code",
   "execution_count": 10,
   "id": "de57c87b-5a6c-4987-9840-3c850922bfce",
   "metadata": {},
   "outputs": [
    {
     "data": {
      "text/plain": [
       "0"
      ]
     },
     "execution_count": 10,
     "metadata": {},
     "output_type": "execute_result"
    }
   ],
   "source": [
    "relu(-9)"
   ]
  },
  {
   "cell_type": "markdown",
   "id": "40bf14df-8d29-4db4-9eba-1d7ec0a01bf5",
   "metadata": {},
   "source": [
    "## Leaky ReLU"
   ]
  },
  {
   "cell_type": "code",
   "execution_count": 11,
   "id": "68e67a0f-4484-4f10-8ece-da45346d85f8",
   "metadata": {},
   "outputs": [],
   "source": [
    "def leaky_relu(x):\n",
    "    return max(0.1*x,x)"
   ]
  },
  {
   "cell_type": "code",
   "execution_count": 12,
   "id": "9476f22e-6f96-4f77-bb34-5f16a09c2845",
   "metadata": {},
   "outputs": [
    {
     "data": {
      "text/plain": [
       "10"
      ]
     },
     "execution_count": 12,
     "metadata": {},
     "output_type": "execute_result"
    }
   ],
   "source": [
    "leaky_relu(10)"
   ]
  },
  {
   "cell_type": "code",
   "execution_count": 13,
   "id": "47d5af48-1bcb-4bc0-a690-963022948c65",
   "metadata": {},
   "outputs": [
    {
     "data": {
      "text/plain": [
       "-0.7000000000000001"
      ]
     },
     "execution_count": 13,
     "metadata": {},
     "output_type": "execute_result"
    }
   ],
   "source": [
    "leaky_relu(-7)"
   ]
  }
 ],
 "metadata": {
  "kernelspec": {
   "display_name": "Python [conda env:base] *",
   "language": "python",
   "name": "conda-base-py"
  },
  "language_info": {
   "codemirror_mode": {
    "name": "ipython",
    "version": 3
   },
   "file_extension": ".py",
   "mimetype": "text/x-python",
   "name": "python",
   "nbconvert_exporter": "python",
   "pygments_lexer": "ipython3",
   "version": "3.13.5"
  }
 },
 "nbformat": 4,
 "nbformat_minor": 5
}
