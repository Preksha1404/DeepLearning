{
 "cells": [
  {
   "cell_type": "code",
   "execution_count": null,
   "id": "93e31dcc-ea26-48c2-81fd-3f7ef9702982",
   "metadata": {},
   "outputs": [],
   "source": []
  }
 ],
 "metadata": {
  "kernelspec": {
   "display_name": "",
   "name": ""
  },
  "language_info": {
   "name": ""
  }
 },
 "nbformat": 4,
 "nbformat_minor": 5
}
