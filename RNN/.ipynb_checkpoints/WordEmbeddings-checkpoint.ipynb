{
 "cells": [
  {
   "cell_type": "code",
   "execution_count": 1,
   "id": "bc4f99f5-fd42-4883-83b8-f41a5582d646",
   "metadata": {},
   "outputs": [],
   "source": [
    "import numpy as np\n",
    "from tensorflow.keras.preprocessing.text import one_hot\n",
    "from tensorflow.keras.preprocessing.sequence import pad_sequences\n",
    "from tensorflow.keras.models import Sequential\n",
    "from tensorflow.keras.layers import Dense\n",
    "from tensorflow.keras.layers import Flatten\n",
    "from tensorflow.keras.layers import Embedding\n",
    "\n",
    "reviews = ['nice food',\n",
    "        'amazing restaurant',\n",
    "        'too good',\n",
    "        'just loved it!',\n",
    "        'will go again',\n",
    "        'horrible food',\n",
    "        'never go there',\n",
    "        'poor service',\n",
    "        'poor quality',\n",
    "        'needs improvement']\n",
    "\n",
    "sentiment = np.array([1,1,1,1,1,0,0,0,0,0])"
   ]
  },
  {
   "cell_type": "code",
   "execution_count": 2,
   "id": "477eb8f5-ba36-4455-9285-85b8f2812a60",
   "metadata": {},
   "outputs": [
    {
     "data": {
      "text/plain": [
       "[5, 29]"
      ]
     },
     "execution_count": 2,
     "metadata": {},
     "output_type": "execute_result"
    }
   ],
   "source": [
    "one_hot(\"amazing restaurant\",30)"
   ]
  },
  {
   "cell_type": "code",
   "execution_count": 3,
   "id": "c64494c0-fee8-4d53-9bbb-00309f2e87be",
   "metadata": {},
   "outputs": [
    {
     "name": "stdout",
     "output_type": "stream",
     "text": [
      "[[24, 19], [5, 29], [5, 2], [19, 12, 22], [24, 1, 22], [23, 19], [2, 1, 17], [12, 29], [12, 16], [3, 8]]\n"
     ]
    }
   ],
   "source": [
    "vocab_size = 30\n",
    "encoded_reviews = [one_hot(d, vocab_size) for d in reviews]\n",
    "print(encoded_reviews)\n"
   ]
  },
  {
   "cell_type": "code",
   "execution_count": 4,
   "id": "ab8a2c21-01b9-49d3-9924-71764cdb2274",
   "metadata": {},
   "outputs": [
    {
     "name": "stdout",
     "output_type": "stream",
     "text": [
      "[[24 19  0  0]\n",
      " [ 5 29  0  0]\n",
      " [ 5  2  0  0]\n",
      " [19 12 22  0]\n",
      " [24  1 22  0]\n",
      " [23 19  0  0]\n",
      " [ 2  1 17  0]\n",
      " [12 29  0  0]\n",
      " [12 16  0  0]\n",
      " [ 3  8  0  0]]\n"
     ]
    }
   ],
   "source": [
    "max_length = 4\n",
    "padded_reviews = pad_sequences(encoded_reviews, maxlen=max_length, padding='post')\n",
    "print(padded_reviews)"
   ]
  },
  {
   "cell_type": "code",
   "execution_count": 16,
   "id": "9f9db33e-389c-4743-a8d4-3588a1496732",
   "metadata": {},
   "outputs": [],
   "source": [
    "embeded_vector_size = 4\n",
    "\n",
    "model = Sequential()\n",
    "model.add(Embedding(vocab_size, embeded_vector_size, input_length=max_length,name=\"embedding\"))\n",
    "model.add(Flatten())\n",
    "model.add(Dense(1, activation='sigmoid'))"
   ]
  },
  {
   "cell_type": "code",
   "execution_count": 17,
   "id": "15424ea8-b5ad-4621-8290-cc9b284313a4",
   "metadata": {},
   "outputs": [],
   "source": [
    "X = padded_reviews\n",
    "y = sentiment"
   ]
  },
  {
   "cell_type": "code",
   "execution_count": 18,
   "id": "852e14a6-3a9c-4318-b126-be1b441a5449",
   "metadata": {},
   "outputs": [],
   "source": [
    "model.compile(optimizer='adam', loss='binary_crossentropy', metrics=['accuracy'])"
   ]
  },
  {
   "cell_type": "code",
   "execution_count": 19,
   "id": "7e258be1-4efe-4eec-9378-38f27f00b8b4",
   "metadata": {},
   "outputs": [
    {
     "data": {
      "text/plain": [
       "<keras.src.callbacks.history.History at 0x21c3a8dc690>"
      ]
     },
     "execution_count": 19,
     "metadata": {},
     "output_type": "execute_result"
    }
   ],
   "source": [
    "model.fit(X, y, epochs=50, verbose=0)"
   ]
  },
  {
   "cell_type": "code",
   "execution_count": 20,
   "id": "b9377579-567c-47bc-9567-4e694d70c0c4",
   "metadata": {},
   "outputs": [
    {
     "name": "stdout",
     "output_type": "stream",
     "text": [
      "\u001b[1m1/1\u001b[0m \u001b[32m━━━━━━━━━━━━━━━━━━━━\u001b[0m\u001b[37m\u001b[0m \u001b[1m0s\u001b[0m 152ms/step - accuracy: 1.0000 - loss: 0.6388\n"
     ]
    },
    {
     "data": {
      "text/plain": [
       "1.0"
      ]
     },
     "execution_count": 20,
     "metadata": {},
     "output_type": "execute_result"
    }
   ],
   "source": [
    "# evaluate the model\n",
    "loss, accuracy = model.evaluate(X, y)\n",
    "accuracy"
   ]
  },
  {
   "cell_type": "code",
   "execution_count": 22,
   "id": "f90f317f-8a3c-4300-9513-8345e0f3024d",
   "metadata": {},
   "outputs": [
    {
     "data": {
      "text/plain": [
       "array([[-0.05770013, -0.00456189,  0.00212356,  0.01091667],\n",
       "       [-0.04087631,  0.04273851,  0.04014853,  0.01127796],\n",
       "       [-0.02062332,  0.04182855, -0.00875552, -0.07850205],\n",
       "       [-0.06958045,  0.01935489, -0.03317203, -0.05231933],\n",
       "       [ 0.01200472,  0.04784581,  0.00704189, -0.00293572],\n",
       "       [ 0.04931554, -0.02434996, -0.00183591,  0.08179714],\n",
       "       [-0.03687924, -0.03006491, -0.03775714, -0.00449021],\n",
       "       [ 0.01021125, -0.001002  , -0.04248212, -0.0410434 ],\n",
       "       [ 0.07866175, -0.03097372,  0.05857764,  0.06944074],\n",
       "       [ 0.04535414, -0.02542895, -0.04004612,  0.03729136],\n",
       "       [ 0.00892818,  0.04398669, -0.00344416,  0.02929291],\n",
       "       [-0.04900514, -0.00555812, -0.0372018 , -0.01193704],\n",
       "       [-0.05309177,  0.10373716, -0.02408319, -0.04340305],\n",
       "       [-0.02547989,  0.03029367, -0.01452176,  0.0081264 ],\n",
       "       [ 0.02679744, -0.0078164 ,  0.02771076,  0.01746016],\n",
       "       [-0.00079381, -0.03579646, -0.00195342,  0.03418716],\n",
       "       [ 0.05334884, -0.02360191,  0.02467773,  0.0006775 ],\n",
       "       [-0.00950657, -0.08047662,  0.03125756, -0.0143034 ],\n",
       "       [ 0.04393427,  0.01288644, -0.04179388,  0.03166592],\n",
       "       [ 0.05801105, -0.06687166,  0.03199715,  0.00232482],\n",
       "       [-0.03202067, -0.04721978, -0.01587123,  0.02611749],\n",
       "       [ 0.04439617,  0.00034511, -0.01839495,  0.00309526],\n",
       "       [ 0.02046445,  0.0846938 , -0.05922737,  0.06232974],\n",
       "       [-0.01331025,  0.0745538 , -0.04485419, -0.09543376],\n",
       "       [ 0.0620378 , -0.12191847,  0.00650079,  0.07891889],\n",
       "       [-0.03670871, -0.04993629, -0.01637822,  0.0077673 ],\n",
       "       [ 0.02725386,  0.04650566,  0.02201689, -0.01064867],\n",
       "       [-0.04289845,  0.03115728, -0.04707919, -0.03165035],\n",
       "       [ 0.04585523, -0.01231327,  0.00026455, -0.02738155],\n",
       "       [ 0.0379077 , -0.04316372, -0.0125803 ,  0.03559956]],\n",
       "      dtype=float32)"
      ]
     },
     "execution_count": 22,
     "metadata": {},
     "output_type": "execute_result"
    }
   ],
   "source": [
    "weights = model.get_layer('embedding').get_weights()[0]\n",
    "weights\n",
    "# len(weights)"
   ]
  },
  {
   "cell_type": "code",
   "execution_count": null,
   "id": "89418964-0d9f-4772-bb0d-03cd6d4a08b7",
   "metadata": {},
   "outputs": [],
   "source": []
  }
 ],
 "metadata": {
  "kernelspec": {
   "display_name": "Python [conda env:base] *",
   "language": "python",
   "name": "conda-base-py"
  },
  "language_info": {
   "codemirror_mode": {
    "name": "ipython",
    "version": 3
   },
   "file_extension": ".py",
   "mimetype": "text/x-python",
   "name": "python",
   "nbconvert_exporter": "python",
   "pygments_lexer": "ipython3",
   "version": "3.13.5"
  }
 },
 "nbformat": 4,
 "nbformat_minor": 5
}
